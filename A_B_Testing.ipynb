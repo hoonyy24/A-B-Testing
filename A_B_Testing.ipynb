{
  "cells": [
    {
      "cell_type": "markdown",
      "metadata": {
        "id": "sDuaKPWuk1J0"
      },
      "source": [
        "# A/B test"
      ]
    },
    {
      "cell_type": "markdown",
      "metadata": {
        "id": "7p0W7eG2v-2C"
      },
      "source": [
        "A/B test is a controlled experiment designed to compare two versions of a variable or treatment, often referred to as the \"A\" version (the control) and the \"B\" version (the variant), to determine which one performs better according to a predefined metric, such as conversion rate, user engagement, or sales. In this experiment, users or subjects are randomly divided into two distinct groups, ensuring that each group receives one of the versions, and the outcomes are measured and compared. The purpose of an A/B test is to identify the most effective approach or treatment, based on data-driven insights, to optimize processes, improve performance, or guide strategic decisions. The randomization of subjects helps eliminate biases and ensures that the results are statistically valid and reliable.\n"
      ]
    },
    {
      "cell_type": "markdown",
      "metadata": {
        "id": "ht3S9WdZUpHb"
      },
      "source": [
        "In this A/B test, the primary objective of the analysis is to compare the two groups in terms of the frequency and distribution of key variables, such as the number of impressions, clicks, conversions, and other relevant metrics. The goal is to determine whether the differences observed between the control and test groups are statistically significant, providing insights into the effectiveness of the marketing strategies applied to each group. This analysis uses a well-known A/B test dataset sourced from Kaggle, which includes various performance indicators across multiple campaigns, allowing for a comprehensive evaluation of the factors influencing the campaign outcomes. By applying statistical methods, such as hypothesis testing and comparison of means, we aim to validate the hypothesis and draw actionable conclusions for marketing decision-making."
      ]
    },
    {
      "cell_type": "code",
      "execution_count": 11,
      "metadata": {
        "colab": {
          "base_uri": "https://localhost:8080/"
        },
        "id": "1O52BSW5Ua7A",
        "outputId": "12a24c59-5f7b-46e9-a4d8-d773ed712d70"
      },
      "outputs": [
        {
          "output_type": "stream",
          "name": "stdout",
          "text": [
            "Path to dataset files: /root/.cache/kagglehub/datasets/amirmotefaker/ab-testing-dataset/versions/1\n",
            "Csv files: ['control_group.csv', 'test_group.csv']\n"
          ]
        }
      ],
      "source": [
        "import kagglehub\n",
        "import os\n",
        "import matplotlib.pyplot as plt\n",
        "import pandas as pd\n",
        "import warnings\n",
        "warnings.filterwarnings('ignore')\n",
        "\n",
        "# Download the Kaggle dataset\n",
        "path = kagglehub.dataset_download(\"amirmotefaker/ab-testing-dataset\")\n",
        "print(\"Path to dataset files:\", path)\n",
        "\n",
        "# Print the list of files in the downloaded directory\n",
        "files = os.listdir(path)\n",
        "print(\"Csv files:\", files)\n",
        "\n",
        "path1 = os.path.join(path,'control_group.csv')\n",
        "path2 = os.path.join(path,'test_group.csv')\n",
        "\n",
        "control_group = pd.read_csv(path1, sep=';')\n",
        "test_group = pd.read_csv(path2, sep=';')\n"
      ]
    },
    {
      "cell_type": "markdown",
      "metadata": {
        "id": "XSthabNeYnlk"
      },
      "source": [
        "## Data preprocessing"
      ]
    },
    {
      "cell_type": "markdown",
      "metadata": {
        "id": "oO1uE_BmWWkA"
      },
      "source": [
        "Data preprocessing is a crucial step in data analysis. If we don't perform proper data preprocessing, the results will be meaningless. First, I renamed each column, corrected the 'date' column, and replaced any null values with the average value."
      ]
    },
    {
      "cell_type": "code",
      "execution_count": 12,
      "metadata": {
        "colab": {
          "base_uri": "https://localhost:8080/",
          "height": 310
        },
        "id": "vIdmzYGpWXmM",
        "outputId": "a367a0f3-d53b-47d0-a53d-c520c69ad537"
      },
      "outputs": [
        {
          "output_type": "execute_result",
          "data": {
            "text/plain": [
              "      Campaign Name       Date  Spend [USD]  # of Impressions     Reach  \\\n",
              "0  Control Campaign  1.08.2019         2280           82702.0   56930.0   \n",
              "1  Control Campaign  2.08.2019         1757          121040.0  102513.0   \n",
              "2  Control Campaign  3.08.2019         2343          131711.0  110862.0   \n",
              "3  Control Campaign  4.08.2019         1940           72878.0   61235.0   \n",
              "4  Control Campaign  5.08.2019         1835               NaN       NaN   \n",
              "\n",
              "   # of Website Clicks  # of Searches  # of View Content  # of Add to Cart  \\\n",
              "0               7016.0         2290.0             2159.0            1819.0   \n",
              "1               8110.0         2033.0             1841.0            1219.0   \n",
              "2               6508.0         1737.0             1549.0            1134.0   \n",
              "3               3065.0         1042.0              982.0            1183.0   \n",
              "4                  NaN            NaN                NaN               NaN   \n",
              "\n",
              "   # of Purchase  \n",
              "0          618.0  \n",
              "1          511.0  \n",
              "2          372.0  \n",
              "3          340.0  \n",
              "4            NaN  "
            ],
            "text/html": [
              "\n",
              "  <div id=\"df-0e196d4e-4bc7-4c58-9ef3-8d837feb5da3\" class=\"colab-df-container\">\n",
              "    <div>\n",
              "<style scoped>\n",
              "    .dataframe tbody tr th:only-of-type {\n",
              "        vertical-align: middle;\n",
              "    }\n",
              "\n",
              "    .dataframe tbody tr th {\n",
              "        vertical-align: top;\n",
              "    }\n",
              "\n",
              "    .dataframe thead th {\n",
              "        text-align: right;\n",
              "    }\n",
              "</style>\n",
              "<table border=\"1\" class=\"dataframe\">\n",
              "  <thead>\n",
              "    <tr style=\"text-align: right;\">\n",
              "      <th></th>\n",
              "      <th>Campaign Name</th>\n",
              "      <th>Date</th>\n",
              "      <th>Spend [USD]</th>\n",
              "      <th># of Impressions</th>\n",
              "      <th>Reach</th>\n",
              "      <th># of Website Clicks</th>\n",
              "      <th># of Searches</th>\n",
              "      <th># of View Content</th>\n",
              "      <th># of Add to Cart</th>\n",
              "      <th># of Purchase</th>\n",
              "    </tr>\n",
              "  </thead>\n",
              "  <tbody>\n",
              "    <tr>\n",
              "      <th>0</th>\n",
              "      <td>Control Campaign</td>\n",
              "      <td>1.08.2019</td>\n",
              "      <td>2280</td>\n",
              "      <td>82702.0</td>\n",
              "      <td>56930.0</td>\n",
              "      <td>7016.0</td>\n",
              "      <td>2290.0</td>\n",
              "      <td>2159.0</td>\n",
              "      <td>1819.0</td>\n",
              "      <td>618.0</td>\n",
              "    </tr>\n",
              "    <tr>\n",
              "      <th>1</th>\n",
              "      <td>Control Campaign</td>\n",
              "      <td>2.08.2019</td>\n",
              "      <td>1757</td>\n",
              "      <td>121040.0</td>\n",
              "      <td>102513.0</td>\n",
              "      <td>8110.0</td>\n",
              "      <td>2033.0</td>\n",
              "      <td>1841.0</td>\n",
              "      <td>1219.0</td>\n",
              "      <td>511.0</td>\n",
              "    </tr>\n",
              "    <tr>\n",
              "      <th>2</th>\n",
              "      <td>Control Campaign</td>\n",
              "      <td>3.08.2019</td>\n",
              "      <td>2343</td>\n",
              "      <td>131711.0</td>\n",
              "      <td>110862.0</td>\n",
              "      <td>6508.0</td>\n",
              "      <td>1737.0</td>\n",
              "      <td>1549.0</td>\n",
              "      <td>1134.0</td>\n",
              "      <td>372.0</td>\n",
              "    </tr>\n",
              "    <tr>\n",
              "      <th>3</th>\n",
              "      <td>Control Campaign</td>\n",
              "      <td>4.08.2019</td>\n",
              "      <td>1940</td>\n",
              "      <td>72878.0</td>\n",
              "      <td>61235.0</td>\n",
              "      <td>3065.0</td>\n",
              "      <td>1042.0</td>\n",
              "      <td>982.0</td>\n",
              "      <td>1183.0</td>\n",
              "      <td>340.0</td>\n",
              "    </tr>\n",
              "    <tr>\n",
              "      <th>4</th>\n",
              "      <td>Control Campaign</td>\n",
              "      <td>5.08.2019</td>\n",
              "      <td>1835</td>\n",
              "      <td>NaN</td>\n",
              "      <td>NaN</td>\n",
              "      <td>NaN</td>\n",
              "      <td>NaN</td>\n",
              "      <td>NaN</td>\n",
              "      <td>NaN</td>\n",
              "      <td>NaN</td>\n",
              "    </tr>\n",
              "  </tbody>\n",
              "</table>\n",
              "</div>\n",
              "    <div class=\"colab-df-buttons\">\n",
              "\n",
              "  <div class=\"colab-df-container\">\n",
              "    <button class=\"colab-df-convert\" onclick=\"convertToInteractive('df-0e196d4e-4bc7-4c58-9ef3-8d837feb5da3')\"\n",
              "            title=\"Convert this dataframe to an interactive table.\"\n",
              "            style=\"display:none;\">\n",
              "\n",
              "  <svg xmlns=\"http://www.w3.org/2000/svg\" height=\"24px\" viewBox=\"0 -960 960 960\">\n",
              "    <path d=\"M120-120v-720h720v720H120Zm60-500h600v-160H180v160Zm220 220h160v-160H400v160Zm0 220h160v-160H400v160ZM180-400h160v-160H180v160Zm440 0h160v-160H620v160ZM180-180h160v-160H180v160Zm440 0h160v-160H620v160Z\"/>\n",
              "  </svg>\n",
              "    </button>\n",
              "\n",
              "  <style>\n",
              "    .colab-df-container {\n",
              "      display:flex;\n",
              "      gap: 12px;\n",
              "    }\n",
              "\n",
              "    .colab-df-convert {\n",
              "      background-color: #E8F0FE;\n",
              "      border: none;\n",
              "      border-radius: 50%;\n",
              "      cursor: pointer;\n",
              "      display: none;\n",
              "      fill: #1967D2;\n",
              "      height: 32px;\n",
              "      padding: 0 0 0 0;\n",
              "      width: 32px;\n",
              "    }\n",
              "\n",
              "    .colab-df-convert:hover {\n",
              "      background-color: #E2EBFA;\n",
              "      box-shadow: 0px 1px 2px rgba(60, 64, 67, 0.3), 0px 1px 3px 1px rgba(60, 64, 67, 0.15);\n",
              "      fill: #174EA6;\n",
              "    }\n",
              "\n",
              "    .colab-df-buttons div {\n",
              "      margin-bottom: 4px;\n",
              "    }\n",
              "\n",
              "    [theme=dark] .colab-df-convert {\n",
              "      background-color: #3B4455;\n",
              "      fill: #D2E3FC;\n",
              "    }\n",
              "\n",
              "    [theme=dark] .colab-df-convert:hover {\n",
              "      background-color: #434B5C;\n",
              "      box-shadow: 0px 1px 3px 1px rgba(0, 0, 0, 0.15);\n",
              "      filter: drop-shadow(0px 1px 2px rgba(0, 0, 0, 0.3));\n",
              "      fill: #FFFFFF;\n",
              "    }\n",
              "  </style>\n",
              "\n",
              "    <script>\n",
              "      const buttonEl =\n",
              "        document.querySelector('#df-0e196d4e-4bc7-4c58-9ef3-8d837feb5da3 button.colab-df-convert');\n",
              "      buttonEl.style.display =\n",
              "        google.colab.kernel.accessAllowed ? 'block' : 'none';\n",
              "\n",
              "      async function convertToInteractive(key) {\n",
              "        const element = document.querySelector('#df-0e196d4e-4bc7-4c58-9ef3-8d837feb5da3');\n",
              "        const dataTable =\n",
              "          await google.colab.kernel.invokeFunction('convertToInteractive',\n",
              "                                                    [key], {});\n",
              "        if (!dataTable) return;\n",
              "\n",
              "        const docLinkHtml = 'Like what you see? Visit the ' +\n",
              "          '<a target=\"_blank\" href=https://colab.research.google.com/notebooks/data_table.ipynb>data table notebook</a>'\n",
              "          + ' to learn more about interactive tables.';\n",
              "        element.innerHTML = '';\n",
              "        dataTable['output_type'] = 'display_data';\n",
              "        await google.colab.output.renderOutput(dataTable, element);\n",
              "        const docLink = document.createElement('div');\n",
              "        docLink.innerHTML = docLinkHtml;\n",
              "        element.appendChild(docLink);\n",
              "      }\n",
              "    </script>\n",
              "  </div>\n",
              "\n",
              "\n",
              "<div id=\"df-48a31a3e-c100-4c0c-b75c-e16fe92e47a1\">\n",
              "  <button class=\"colab-df-quickchart\" onclick=\"quickchart('df-48a31a3e-c100-4c0c-b75c-e16fe92e47a1')\"\n",
              "            title=\"Suggest charts\"\n",
              "            style=\"display:none;\">\n",
              "\n",
              "<svg xmlns=\"http://www.w3.org/2000/svg\" height=\"24px\"viewBox=\"0 0 24 24\"\n",
              "     width=\"24px\">\n",
              "    <g>\n",
              "        <path d=\"M19 3H5c-1.1 0-2 .9-2 2v14c0 1.1.9 2 2 2h14c1.1 0 2-.9 2-2V5c0-1.1-.9-2-2-2zM9 17H7v-7h2v7zm4 0h-2V7h2v10zm4 0h-2v-4h2v4z\"/>\n",
              "    </g>\n",
              "</svg>\n",
              "  </button>\n",
              "\n",
              "<style>\n",
              "  .colab-df-quickchart {\n",
              "      --bg-color: #E8F0FE;\n",
              "      --fill-color: #1967D2;\n",
              "      --hover-bg-color: #E2EBFA;\n",
              "      --hover-fill-color: #174EA6;\n",
              "      --disabled-fill-color: #AAA;\n",
              "      --disabled-bg-color: #DDD;\n",
              "  }\n",
              "\n",
              "  [theme=dark] .colab-df-quickchart {\n",
              "      --bg-color: #3B4455;\n",
              "      --fill-color: #D2E3FC;\n",
              "      --hover-bg-color: #434B5C;\n",
              "      --hover-fill-color: #FFFFFF;\n",
              "      --disabled-bg-color: #3B4455;\n",
              "      --disabled-fill-color: #666;\n",
              "  }\n",
              "\n",
              "  .colab-df-quickchart {\n",
              "    background-color: var(--bg-color);\n",
              "    border: none;\n",
              "    border-radius: 50%;\n",
              "    cursor: pointer;\n",
              "    display: none;\n",
              "    fill: var(--fill-color);\n",
              "    height: 32px;\n",
              "    padding: 0;\n",
              "    width: 32px;\n",
              "  }\n",
              "\n",
              "  .colab-df-quickchart:hover {\n",
              "    background-color: var(--hover-bg-color);\n",
              "    box-shadow: 0 1px 2px rgba(60, 64, 67, 0.3), 0 1px 3px 1px rgba(60, 64, 67, 0.15);\n",
              "    fill: var(--button-hover-fill-color);\n",
              "  }\n",
              "\n",
              "  .colab-df-quickchart-complete:disabled,\n",
              "  .colab-df-quickchart-complete:disabled:hover {\n",
              "    background-color: var(--disabled-bg-color);\n",
              "    fill: var(--disabled-fill-color);\n",
              "    box-shadow: none;\n",
              "  }\n",
              "\n",
              "  .colab-df-spinner {\n",
              "    border: 2px solid var(--fill-color);\n",
              "    border-color: transparent;\n",
              "    border-bottom-color: var(--fill-color);\n",
              "    animation:\n",
              "      spin 1s steps(1) infinite;\n",
              "  }\n",
              "\n",
              "  @keyframes spin {\n",
              "    0% {\n",
              "      border-color: transparent;\n",
              "      border-bottom-color: var(--fill-color);\n",
              "      border-left-color: var(--fill-color);\n",
              "    }\n",
              "    20% {\n",
              "      border-color: transparent;\n",
              "      border-left-color: var(--fill-color);\n",
              "      border-top-color: var(--fill-color);\n",
              "    }\n",
              "    30% {\n",
              "      border-color: transparent;\n",
              "      border-left-color: var(--fill-color);\n",
              "      border-top-color: var(--fill-color);\n",
              "      border-right-color: var(--fill-color);\n",
              "    }\n",
              "    40% {\n",
              "      border-color: transparent;\n",
              "      border-right-color: var(--fill-color);\n",
              "      border-top-color: var(--fill-color);\n",
              "    }\n",
              "    60% {\n",
              "      border-color: transparent;\n",
              "      border-right-color: var(--fill-color);\n",
              "    }\n",
              "    80% {\n",
              "      border-color: transparent;\n",
              "      border-right-color: var(--fill-color);\n",
              "      border-bottom-color: var(--fill-color);\n",
              "    }\n",
              "    90% {\n",
              "      border-color: transparent;\n",
              "      border-bottom-color: var(--fill-color);\n",
              "    }\n",
              "  }\n",
              "</style>\n",
              "\n",
              "  <script>\n",
              "    async function quickchart(key) {\n",
              "      const quickchartButtonEl =\n",
              "        document.querySelector('#' + key + ' button');\n",
              "      quickchartButtonEl.disabled = true;  // To prevent multiple clicks.\n",
              "      quickchartButtonEl.classList.add('colab-df-spinner');\n",
              "      try {\n",
              "        const charts = await google.colab.kernel.invokeFunction(\n",
              "            'suggestCharts', [key], {});\n",
              "      } catch (error) {\n",
              "        console.error('Error during call to suggestCharts:', error);\n",
              "      }\n",
              "      quickchartButtonEl.classList.remove('colab-df-spinner');\n",
              "      quickchartButtonEl.classList.add('colab-df-quickchart-complete');\n",
              "    }\n",
              "    (() => {\n",
              "      let quickchartButtonEl =\n",
              "        document.querySelector('#df-48a31a3e-c100-4c0c-b75c-e16fe92e47a1 button');\n",
              "      quickchartButtonEl.style.display =\n",
              "        google.colab.kernel.accessAllowed ? 'block' : 'none';\n",
              "    })();\n",
              "  </script>\n",
              "</div>\n",
              "\n",
              "    </div>\n",
              "  </div>\n"
            ],
            "application/vnd.google.colaboratory.intrinsic+json": {
              "type": "dataframe",
              "variable_name": "control_group",
              "summary": "{\n  \"name\": \"control_group\",\n  \"rows\": 30,\n  \"fields\": [\n    {\n      \"column\": \"Campaign Name\",\n      \"properties\": {\n        \"dtype\": \"category\",\n        \"num_unique_values\": 1,\n        \"samples\": [\n          \"Control Campaign\"\n        ],\n        \"semantic_type\": \"\",\n        \"description\": \"\"\n      }\n    },\n    {\n      \"column\": \"Date\",\n      \"properties\": {\n        \"dtype\": \"string\",\n        \"num_unique_values\": 30,\n        \"samples\": [\n          \"28.08.2019\"\n        ],\n        \"semantic_type\": \"\",\n        \"description\": \"\"\n      }\n    },\n    {\n      \"column\": \"Spend [USD]\",\n      \"properties\": {\n        \"dtype\": \"number\",\n        \"std\": 367,\n        \"min\": 1757,\n        \"max\": 3083,\n        \"num_unique_values\": 30,\n        \"samples\": [\n          2421\n        ],\n        \"semantic_type\": \"\",\n        \"description\": \"\"\n      }\n    },\n    {\n      \"column\": \"# of Impressions\",\n      \"properties\": {\n        \"dtype\": \"number\",\n        \"std\": 21688.922907879514,\n        \"min\": 71274.0,\n        \"max\": 145248.0,\n        \"num_unique_values\": 29,\n        \"samples\": [\n          92029.0\n        ],\n        \"semantic_type\": \"\",\n        \"description\": \"\"\n      }\n    },\n    {\n      \"column\": \"Reach\",\n      \"properties\": {\n        \"dtype\": \"number\",\n        \"std\": 21832.349595318796,\n        \"min\": 42859.0,\n        \"max\": 127852.0,\n        \"num_unique_values\": 29,\n        \"samples\": [\n          74192.0\n        ],\n        \"semantic_type\": \"\",\n        \"description\": \"\"\n      }\n    },\n    {\n      \"column\": \"# of Website Clicks\",\n      \"properties\": {\n        \"dtype\": \"number\",\n        \"std\": 1757.369003029211,\n        \"min\": 2277.0,\n        \"max\": 8137.0,\n        \"num_unique_values\": 29,\n        \"samples\": [\n          8127.0\n        ],\n        \"semantic_type\": \"\",\n        \"description\": \"\"\n      }\n    },\n    {\n      \"column\": \"# of Searches\",\n      \"properties\": {\n        \"dtype\": \"number\",\n        \"std\": 866.0893678503669,\n        \"min\": 1001.0,\n        \"max\": 4891.0,\n        \"num_unique_values\": 29,\n        \"samples\": [\n          4891.0\n        ],\n        \"semantic_type\": \"\",\n        \"description\": \"\"\n      }\n    },\n    {\n      \"column\": \"# of View Content\",\n      \"properties\": {\n        \"dtype\": \"number\",\n        \"std\": 777.5454685515341,\n        \"min\": 848.0,\n        \"max\": 4219.0,\n        \"num_unique_values\": 26,\n        \"samples\": [\n          1984.0\n        ],\n        \"semantic_type\": \"\",\n        \"description\": \"\"\n      }\n    },\n    {\n      \"column\": \"# of Add to Cart\",\n      \"properties\": {\n        \"dtype\": \"number\",\n        \"std\": 407.45797329295203,\n        \"min\": 442.0,\n        \"max\": 1913.0,\n        \"num_unique_values\": 29,\n        \"samples\": [\n          1486.0\n        ],\n        \"semantic_type\": \"\",\n        \"description\": \"\"\n      }\n    },\n    {\n      \"column\": \"# of Purchase\",\n      \"properties\": {\n        \"dtype\": \"number\",\n        \"std\": 185.02864243723857,\n        \"min\": 222.0,\n        \"max\": 800.0,\n        \"num_unique_values\": 28,\n        \"samples\": [\n          475.0\n        ],\n        \"semantic_type\": \"\",\n        \"description\": \"\"\n      }\n    }\n  ]\n}"
            }
          },
          "metadata": {},
          "execution_count": 12
        }
      ],
      "source": [
        "control_group.head()"
      ]
    },
    {
      "cell_type": "code",
      "execution_count": 13,
      "metadata": {
        "colab": {
          "base_uri": "https://localhost:8080/"
        },
        "id": "_yOmZQmyZPMQ",
        "outputId": "36027c1d-4c7c-4a91-dbd9-3336d9a86811"
      },
      "outputs": [
        {
          "output_type": "stream",
          "name": "stdout",
          "text": [
            "Index(['group', 'date', 'cost', 'impression_count', 'reach_count',\n",
            "       'click_count', 'search_count', 'view_count', 'cart_add_count',\n",
            "       'purchase_count'],\n",
            "      dtype='object')\n",
            "Index(['group', 'date', 'cost', 'impression_count', 'reach_count',\n",
            "       'click_count', 'search_count', 'view_count', 'cart_add_count',\n",
            "       'purchase_count'],\n",
            "      dtype='object')\n"
          ]
        }
      ],
      "source": [
        "# first Rename columns\n",
        "columns = ['group', 'date', 'cost', 'impression_count', 'reach_count', 'click_count',\n",
        "           'search_count', 'view_count', 'cart_add_count', 'purchase_count']\n",
        "control_group.columns = columns\n",
        "test_group.columns = columns\n",
        "\n",
        "# Check\n",
        "print(control_group.columns)\n",
        "print(test_group.columns)"
      ]
    },
    {
      "cell_type": "code",
      "execution_count": 14,
      "metadata": {
        "id": "IqvZ5zU2eMzF",
        "colab": {
          "base_uri": "https://localhost:8080/"
        },
        "outputId": "a55c8f77-5385-4f6f-aa25-f5cfab9ee876"
      },
      "outputs": [
        {
          "output_type": "stream",
          "name": "stdout",
          "text": [
            "control: datetime64[ns]\n",
            "test: datetime64[ns]\n"
          ]
        }
      ],
      "source": [
        "control_group['date'] = pd.to_datetime(control_group['date'], dayfirst=True)\n",
        "test_group['date'] = pd.to_datetime(test_group['date'], dayfirst=True)\n",
        "\n",
        "print('control:', control_group['date'].dtype)\n",
        "print('test:', test_group['date'].dtype)"
      ]
    },
    {
      "cell_type": "code",
      "execution_count": 15,
      "metadata": {
        "colab": {
          "base_uri": "https://localhost:8080/",
          "height": 398
        },
        "id": "nj5hONmrYnoQ",
        "outputId": "96acddea-1ee6-49e8-c152-1fe36a3cc065"
      },
      "outputs": [
        {
          "output_type": "execute_result",
          "data": {
            "text/plain": [
              "group               0\n",
              "date                0\n",
              "cost                0\n",
              "impression_count    1\n",
              "reach_count         1\n",
              "click_count         1\n",
              "search_count        1\n",
              "view_count          1\n",
              "cart_add_count      1\n",
              "purchase_count      1\n",
              "dtype: int64"
            ],
            "text/html": [
              "<div>\n",
              "<style scoped>\n",
              "    .dataframe tbody tr th:only-of-type {\n",
              "        vertical-align: middle;\n",
              "    }\n",
              "\n",
              "    .dataframe tbody tr th {\n",
              "        vertical-align: top;\n",
              "    }\n",
              "\n",
              "    .dataframe thead th {\n",
              "        text-align: right;\n",
              "    }\n",
              "</style>\n",
              "<table border=\"1\" class=\"dataframe\">\n",
              "  <thead>\n",
              "    <tr style=\"text-align: right;\">\n",
              "      <th></th>\n",
              "      <th>0</th>\n",
              "    </tr>\n",
              "  </thead>\n",
              "  <tbody>\n",
              "    <tr>\n",
              "      <th>group</th>\n",
              "      <td>0</td>\n",
              "    </tr>\n",
              "    <tr>\n",
              "      <th>date</th>\n",
              "      <td>0</td>\n",
              "    </tr>\n",
              "    <tr>\n",
              "      <th>cost</th>\n",
              "      <td>0</td>\n",
              "    </tr>\n",
              "    <tr>\n",
              "      <th>impression_count</th>\n",
              "      <td>1</td>\n",
              "    </tr>\n",
              "    <tr>\n",
              "      <th>reach_count</th>\n",
              "      <td>1</td>\n",
              "    </tr>\n",
              "    <tr>\n",
              "      <th>click_count</th>\n",
              "      <td>1</td>\n",
              "    </tr>\n",
              "    <tr>\n",
              "      <th>search_count</th>\n",
              "      <td>1</td>\n",
              "    </tr>\n",
              "    <tr>\n",
              "      <th>view_count</th>\n",
              "      <td>1</td>\n",
              "    </tr>\n",
              "    <tr>\n",
              "      <th>cart_add_count</th>\n",
              "      <td>1</td>\n",
              "    </tr>\n",
              "    <tr>\n",
              "      <th>purchase_count</th>\n",
              "      <td>1</td>\n",
              "    </tr>\n",
              "  </tbody>\n",
              "</table>\n",
              "</div><br><label><b>dtype:</b> int64</label>"
            ]
          },
          "metadata": {},
          "execution_count": 15
        }
      ],
      "source": [
        "control_group.isna().sum()"
      ]
    },
    {
      "cell_type": "code",
      "execution_count": 16,
      "metadata": {
        "id": "IPPmxVAXYnq-",
        "colab": {
          "base_uri": "https://localhost:8080/",
          "height": 398
        },
        "outputId": "198a9120-cc60-4d03-f24f-4ec90a6c7e3e"
      },
      "outputs": [
        {
          "output_type": "execute_result",
          "data": {
            "text/plain": [
              "group               0\n",
              "date                0\n",
              "cost                0\n",
              "impression_count    0\n",
              "reach_count         0\n",
              "click_count         0\n",
              "search_count        0\n",
              "view_count          0\n",
              "cart_add_count      0\n",
              "purchase_count      0\n",
              "dtype: int64"
            ],
            "text/html": [
              "<div>\n",
              "<style scoped>\n",
              "    .dataframe tbody tr th:only-of-type {\n",
              "        vertical-align: middle;\n",
              "    }\n",
              "\n",
              "    .dataframe tbody tr th {\n",
              "        vertical-align: top;\n",
              "    }\n",
              "\n",
              "    .dataframe thead th {\n",
              "        text-align: right;\n",
              "    }\n",
              "</style>\n",
              "<table border=\"1\" class=\"dataframe\">\n",
              "  <thead>\n",
              "    <tr style=\"text-align: right;\">\n",
              "      <th></th>\n",
              "      <th>0</th>\n",
              "    </tr>\n",
              "  </thead>\n",
              "  <tbody>\n",
              "    <tr>\n",
              "      <th>group</th>\n",
              "      <td>0</td>\n",
              "    </tr>\n",
              "    <tr>\n",
              "      <th>date</th>\n",
              "      <td>0</td>\n",
              "    </tr>\n",
              "    <tr>\n",
              "      <th>cost</th>\n",
              "      <td>0</td>\n",
              "    </tr>\n",
              "    <tr>\n",
              "      <th>impression_count</th>\n",
              "      <td>0</td>\n",
              "    </tr>\n",
              "    <tr>\n",
              "      <th>reach_count</th>\n",
              "      <td>0</td>\n",
              "    </tr>\n",
              "    <tr>\n",
              "      <th>click_count</th>\n",
              "      <td>0</td>\n",
              "    </tr>\n",
              "    <tr>\n",
              "      <th>search_count</th>\n",
              "      <td>0</td>\n",
              "    </tr>\n",
              "    <tr>\n",
              "      <th>view_count</th>\n",
              "      <td>0</td>\n",
              "    </tr>\n",
              "    <tr>\n",
              "      <th>cart_add_count</th>\n",
              "      <td>0</td>\n",
              "    </tr>\n",
              "    <tr>\n",
              "      <th>purchase_count</th>\n",
              "      <td>0</td>\n",
              "    </tr>\n",
              "  </tbody>\n",
              "</table>\n",
              "</div><br><label><b>dtype:</b> int64</label>"
            ]
          },
          "metadata": {},
          "execution_count": 16
        }
      ],
      "source": [
        "test_group.isna().sum()"
      ]
    },
    {
      "cell_type": "code",
      "execution_count": 17,
      "metadata": {
        "id": "onkxfN9YYntv"
      },
      "outputs": [],
      "source": [
        "control_group['impression_count'] = control_group['impression_count'].fillna(control_group['impression_count'].mean())\n",
        "control_group['reach_count'] = control_group['reach_count'].fillna(control_group['reach_count'].mean())\n",
        "control_group['click_count'] = control_group['click_count'].fillna(control_group['click_count'].mean())\n",
        "control_group['search_count'] = control_group['search_count'].fillna(control_group['search_count'].mean())\n",
        "control_group['view_count'] = control_group['view_count'].fillna(control_group['view_count'].mean())\n",
        "control_group['cart_add_count'] = control_group['cart_add_count'].fillna(control_group['cart_add_count'].mean())\n",
        "control_group['purchase_count'] = control_group['purchase_count'].fillna(control_group['purchase_count'].mean())"
      ]
    },
    {
      "cell_type": "code",
      "execution_count": 18,
      "metadata": {
        "id": "M4zhReepYnwh",
        "colab": {
          "base_uri": "https://localhost:8080/",
          "height": 398
        },
        "outputId": "814cb057-0316-4370-9393-8125cc42c52b"
      },
      "outputs": [
        {
          "output_type": "execute_result",
          "data": {
            "text/plain": [
              "group               0\n",
              "date                0\n",
              "cost                0\n",
              "impression_count    0\n",
              "reach_count         0\n",
              "click_count         0\n",
              "search_count        0\n",
              "view_count          0\n",
              "cart_add_count      0\n",
              "purchase_count      0\n",
              "dtype: int64"
            ],
            "text/html": [
              "<div>\n",
              "<style scoped>\n",
              "    .dataframe tbody tr th:only-of-type {\n",
              "        vertical-align: middle;\n",
              "    }\n",
              "\n",
              "    .dataframe tbody tr th {\n",
              "        vertical-align: top;\n",
              "    }\n",
              "\n",
              "    .dataframe thead th {\n",
              "        text-align: right;\n",
              "    }\n",
              "</style>\n",
              "<table border=\"1\" class=\"dataframe\">\n",
              "  <thead>\n",
              "    <tr style=\"text-align: right;\">\n",
              "      <th></th>\n",
              "      <th>0</th>\n",
              "    </tr>\n",
              "  </thead>\n",
              "  <tbody>\n",
              "    <tr>\n",
              "      <th>group</th>\n",
              "      <td>0</td>\n",
              "    </tr>\n",
              "    <tr>\n",
              "      <th>date</th>\n",
              "      <td>0</td>\n",
              "    </tr>\n",
              "    <tr>\n",
              "      <th>cost</th>\n",
              "      <td>0</td>\n",
              "    </tr>\n",
              "    <tr>\n",
              "      <th>impression_count</th>\n",
              "      <td>0</td>\n",
              "    </tr>\n",
              "    <tr>\n",
              "      <th>reach_count</th>\n",
              "      <td>0</td>\n",
              "    </tr>\n",
              "    <tr>\n",
              "      <th>click_count</th>\n",
              "      <td>0</td>\n",
              "    </tr>\n",
              "    <tr>\n",
              "      <th>search_count</th>\n",
              "      <td>0</td>\n",
              "    </tr>\n",
              "    <tr>\n",
              "      <th>view_count</th>\n",
              "      <td>0</td>\n",
              "    </tr>\n",
              "    <tr>\n",
              "      <th>cart_add_count</th>\n",
              "      <td>0</td>\n",
              "    </tr>\n",
              "    <tr>\n",
              "      <th>purchase_count</th>\n",
              "      <td>0</td>\n",
              "    </tr>\n",
              "  </tbody>\n",
              "</table>\n",
              "</div><br><label><b>dtype:</b> int64</label>"
            ]
          },
          "metadata": {},
          "execution_count": 18
        }
      ],
      "source": [
        "control_group.isna().sum()"
      ]
    },
    {
      "cell_type": "markdown",
      "metadata": {
        "id": "wAdbnbEBdnyu"
      },
      "source": [
        "## Exploratory data analysis"
      ]
    },
    {
      "cell_type": "markdown",
      "metadata": {
        "id": "T9oJEbsuZZdZ"
      },
      "source": [
        "In this section, I visualize the sum, average, and outliers of each variable by creating box plots."
      ]
    },
    {
      "cell_type": "markdown",
      "metadata": {
        "id": "EBZYCkl22msy"
      },
      "source": [
        "### Visualize summary_statistics"
      ]
    },
    {
      "cell_type": "code",
      "execution_count": null,
      "metadata": {
        "id": "2mN3hmmqIhmo"
      },
      "outputs": [],
      "source": [
        "#Check the data types of each column in the DataFrame\n",
        "print(control_group.dtypes)\n",
        "print(test_group.dtypes)"
      ]
    },
    {
      "cell_type": "code",
      "execution_count": null,
      "metadata": {
        "id": "O22vhBtmIuIk"
      },
      "outputs": [],
      "source": [
        "# Since the 'group' column is of object type, drop it along with the 'date' column and then run describe\n",
        "control_clean = control_group.drop(columns=['group', 'date'])\n",
        "test_clean = test_group.drop(columns=['group', 'date'])\n",
        "\n",
        "# Now, running describe() will display only numeric columns\n",
        "control_summary = control_clean.describe()\n",
        "test_summary = test_clean.describe()"
      ]
    },
    {
      "cell_type": "code",
      "execution_count": null,
      "metadata": {
        "id": "d02GOmlTJZwf"
      },
      "outputs": [],
      "source": [
        "control_summary"
      ]
    },
    {
      "cell_type": "code",
      "execution_count": null,
      "metadata": {
        "id": "ksPU0mmgIteN"
      },
      "outputs": [],
      "source": [
        "test_summary"
      ]
    },
    {
      "cell_type": "code",
      "execution_count": null,
      "metadata": {
        "id": "kB-F1XKtActG"
      },
      "outputs": [],
      "source": [
        "import matplotlib.pyplot as plt\n",
        "\n",
        "# Draw box plots for each variable in Control Group and Test Group\n",
        "num_vars = len(control_clean.columns)  # Number of variables\n",
        "fig, axes = plt.subplots(nrows=num_vars, ncols=1, figsize=(8, 3 * num_vars), sharex=True)\n",
        "\n",
        "# Create box plots for each variable\n",
        "for i, var in enumerate(control_clean.columns):\n",
        "    # Merge the data of Control Group and Test Group to create the box plot\n",
        "    data = [control_clean[var], test_clean[var]]\n",
        "\n",
        "    axes[i].boxplot(data, labels=['Control Group', 'Test Group'], patch_artist=True)\n",
        "    axes[i].set_title(f\"Box Plot of {var} in Control and Test Groups\")\n",
        "    axes[i].set_ylabel(var)\n",
        "\n",
        "plt.tight_layout()\n",
        "plt.show()\n"
      ]
    },
    {
      "cell_type": "code",
      "execution_count": null,
      "metadata": {
        "id": "sh9KlXO1gMkV"
      },
      "outputs": [],
      "source": [
        "# Calculate the mean for each variable, excluding 'date' and 'group'\n",
        "control_means = control_clean.mean()\n",
        "test_means = test_clean.mean()\n",
        "\n",
        "# Combine the means into a DataFrame for easier iteration\n",
        "comparison_means_df = pd.DataFrame({'Control Group Mean': control_means, 'Test Group Mean': test_means})\n",
        "\n",
        "# Set up the subplots\n",
        "num_vars = len(comparison_means_df)\n",
        "fig, axes = plt.subplots(nrows=num_vars, ncols=1, figsize=(8, 3 * num_vars), sharex=True)\n",
        "\n",
        "# Plot each variable in a separate subplot\n",
        "for i, var in enumerate(comparison_means_df.index):\n",
        "    comparison_means_df.loc[var].plot(kind='bar', ax=axes[i], color=['skyblue', 'orange'])\n",
        "    axes[i].set_title(f\"Mean of {var} in Control and Test Groups\")\n",
        "    axes[i].set_ylabel(\"Mean\")\n",
        "    axes[i].set_xticklabels(['Control Group', 'Test Group'], rotation=0)\n",
        "\n",
        "plt.tight_layout()\n",
        "plt.show()\n",
        "\n"
      ]
    },
    {
      "cell_type": "code",
      "execution_count": null,
      "metadata": {
        "id": "1fYrsd6egMm4"
      },
      "outputs": [],
      "source": [
        "# Calculate the sum for each variable, excluding 'date' and 'group'\n",
        "control_sums = control_clean.sum()\n",
        "test_sums = test_clean.sum()\n",
        "\n",
        "# Combine the sums into a DataFrame for easier iteration\n",
        "comparison_df = pd.DataFrame({'Control Group': control_sums, 'Test Group': test_sums})\n",
        "\n",
        "# Set up the subplots\n",
        "num_vars = len(comparison_df)\n",
        "fig, axes = plt.subplots(nrows=num_vars, ncols=1, figsize=(8, 3 * num_vars), sharex=True)\n",
        "\n",
        "# Plot each variable in a separate subplot\n",
        "for i, var in enumerate(comparison_df.index):\n",
        "    comparison_df.loc[var].plot(kind='bar', ax=axes[i], color=['blue', 'orange'])\n",
        "    axes[i].set_title(f\"Sum of {var} in Control and Test Groups\")\n",
        "    axes[i].set_ylabel(\"Sum\")\n",
        "    axes[i].set_xticklabels(['Control Group', 'Test Group'], rotation=0)\n",
        "\n",
        "plt.tight_layout()\n",
        "plt.show()"
      ]
    },
    {
      "cell_type": "markdown",
      "metadata": {
        "id": "PboVxwfo_APE"
      },
      "source": [
        "## Checking Normality for Each Variable"
      ]
    },
    {
      "cell_type": "markdown",
      "metadata": {
        "id": "k2UEqpOp_P6c"
      },
      "source": [
        "In this section, I checked the normality of each variable by performing the Shapiro-Wilk test and Levene's test for both groups. Based on the results, I found that I can perform the t-test for the view count and reach count\n"
      ]
    },
    {
      "cell_type": "code",
      "execution_count": null,
      "metadata": {
        "colab": {
          "base_uri": "https://localhost:8080/"
        },
        "id": "aywhBJ0S_Bkv",
        "outputId": "15617668-21de-4b7e-ee1b-311d2e1b3283"
      },
      "outputs": [
        {
          "name": "stdout",
          "output_type": "stream",
          "text": [
            "impression_count - Control Group Normality - W Statistic: 0.9437122006853682, P-value: 0.11452370456781957\n",
            "impression_count - Test Group Normality - W Statistic: 0.9484545305279277, P-value: 0.1536675855316964\n",
            "impression_count: Both groups follow a normal distribution.\n",
            "impression_count - Equal Variance Test (Levene's Test) - Statistic: 7.754060233281115, P-value: 0.007225907712495474\n",
            "impression_count: Variances are not equal between groups.\n",
            "\n",
            "reach_count - Control Group Normality - W Statistic: 0.9740168274197124, P-value: 0.6537947092601243\n",
            "reach_count - Test Group Normality - W Statistic: 0.9324318945860866, P-value: 0.05699605107347176\n",
            "reach_count: Both groups follow a normal distribution.\n",
            "reach_count - Equal Variance Test (Levene's Test) - Statistic: 2.514853842854583, P-value: 0.11821567704023767\n",
            "reach_count: Variances are equal between groups.\n",
            "\n",
            "click_count - Control Group Normality - W Statistic: 0.9632073621656805, P-value: 0.373095593451384\n",
            "click_count - Test Group Normality - W Statistic: 0.906241136250896, P-value: 0.01197706859858072\n",
            "click_count: At least one group does not follow a normal distribution.\n",
            "click_count - Equal Variance Test (Levene's Test) - Statistic: 0.1746743503882382, P-value: 0.6775338558640378\n",
            "click_count: Variances are equal between groups.\n",
            "\n",
            "search_count - Control Group Normality - W Statistic: 0.9301770854942784, P-value: 0.04963771841364925\n",
            "search_count - Test Group Normality - W Statistic: 0.8963551640705939, P-value: 0.006847994801092131\n",
            "search_count: At least one group does not follow a normal distribution.\n",
            "search_count - Equal Variance Test (Levene's Test) - Statistic: 8.599979146670647, P-value: 0.004805765895787428\n",
            "search_count: Variances are not equal between groups.\n",
            "\n",
            "view_count - Control Group Normality - W Statistic: 0.9346138645362305, P-value: 0.06518722474333988\n",
            "view_count - Test Group Normality - W Statistic: 0.940327984562448, P-value: 0.09282784429912465\n",
            "view_count: Both groups follow a normal distribution.\n",
            "view_count - Equal Variance Test (Levene's Test) - Statistic: 0.48731891535436234, P-value: 0.4879151238546515\n",
            "view_count: Variances are equal between groups.\n",
            "\n",
            "cart_add_count - Control Group Normality - W Statistic: 0.9612870599502404, P-value: 0.334011480358001\n",
            "cart_add_count - Test Group Normality - W Statistic: 0.923551754354977, P-value: 0.033192262783526424\n",
            "cart_add_count: At least one group does not follow a normal distribution.\n",
            "cart_add_count - Equal Variance Test (Levene's Test) - Statistic: 1.0227934120748186, P-value: 0.31605786471350233\n",
            "cart_add_count: Variances are equal between groups.\n",
            "\n",
            "purchase_count - Control Group Normality - W Statistic: 0.9432733891321948, P-value: 0.11144612212042365\n",
            "purchase_count - Test Group Normality - W Statistic: 0.9181893816994644, P-value: 0.02407767129664654\n",
            "purchase_count: At least one group does not follow a normal distribution.\n",
            "purchase_count - Equal Variance Test (Levene's Test) - Statistic: 1.6674440437105524, P-value: 0.20172402545598725\n",
            "purchase_count: Variances are equal between groups.\n",
            "\n",
            "cost - Control Group Normality - W Statistic: 0.9551170058139924, P-value: 0.23127726681762673\n",
            "cost - Test Group Normality - W Statistic: 0.9440771987825506, P-value: 0.11714811828563237\n",
            "cost: Both groups follow a normal distribution.\n",
            "cost - Equal Variance Test (Levene's Test) - Statistic: 0.06582560778075501, P-value: 0.7984224847640903\n",
            "cost: Variances are equal between groups.\n",
            "\n"
          ]
        }
      ],
      "source": [
        "from scipy import stats\n",
        "\n",
        "# List of variables to check for normality and equal variance\n",
        "variables = ['impression_count', 'reach_count', 'click_count', 'search_count', 'view_count', 'cart_add_count', 'purchase_count','cost']\n",
        "\n",
        "# Loop through each variable and perform the Shapiro-Wilk test for normality and Levene's test for equal variances\n",
        "for var in variables:\n",
        "    control_data = control_group[var]\n",
        "    test_data = test_group[var]\n",
        "\n",
        "    # Shapiro-Wilk test for normality\n",
        "    control_stat, control_p = stats.shapiro(control_data)\n",
        "    test_stat, test_p = stats.shapiro(test_data)\n",
        "\n",
        "    print(f\"{var} - Control Group Normality - W Statistic: {control_stat}, P-value: {control_p}\")\n",
        "    print(f\"{var} - Test Group Normality - W Statistic: {test_stat}, P-value: {test_p}\")\n",
        "\n",
        "    # Interpretation for normality\n",
        "    if control_p > 0.05 and test_p > 0.05:\n",
        "        print(f\"{var}: Both groups follow a normal distribution.\")\n",
        "    else:\n",
        "        print(f\"{var}: At least one group does not follow a normal distribution.\")\n",
        "\n",
        "    # Levene's test for equal variance\n",
        "    var_stat, var_p = stats.levene(control_data, test_data)\n",
        "    print(f\"{var} - Equal Variance Test (Levene's Test) - Statistic: {var_stat}, P-value: {var_p}\")\n",
        "\n",
        "    # Interpretation for equal variance\n",
        "    if var_p > 0.05:\n",
        "        print(f\"{var}: Variances are equal between groups.\\n\")\n",
        "    else:\n",
        "        print(f\"{var}: Variances are not equal between groups.\\n\")"
      ]
    },
    {
      "cell_type": "markdown",
      "metadata": {
        "id": "qCkDVzueSIzQ"
      },
      "source": [
        "## A/B Tetsing"
      ]
    },
    {
      "cell_type": "code",
      "execution_count": 21,
      "metadata": {
        "colab": {
          "base_uri": "https://localhost:8080/"
        },
        "id": "Syu-KFKy-120",
        "outputId": "b4273559-1ec7-4fa9-e6a2-1278e441c252"
      },
      "outputs": [
        {
          "output_type": "stream",
          "name": "stdout",
          "text": [
            "Levene's Test p-value: 0.007225907712495474\n",
            "Performing Welch's t-test (variances are unequal)\n",
            "T-statistic: 4.969499291621205\n",
            "P-value: 8.136360620352422e-06\n",
            "The difference between the two groups is statistically significant.\n",
            "Control Group Mean Impressions: 109559.75862068965\n",
            "Test Group Mean Impressions: 74584.8\n"
          ]
        }
      ],
      "source": [
        "from scipy import stats\n",
        "import numpy as np\n",
        "\n",
        "# Split data for the control and test groups\n",
        "control_group_clicks = control_group['impression_count']\n",
        "test_group_clicks = test_group['impression_count']\n",
        "\n",
        "# Check if the variances are equal using Levene's test\n",
        "stat, p_val_levene = stats.levene(control_group_clicks, test_group_clicks)\n",
        "print(\"Levene's Test p-value:\", p_val_levene)\n",
        "\n",
        "# Perform Welch's t-test or regular t-test depending on Levene's test result\n",
        "if p_val_levene < 0.05:\n",
        "    # If variances are not equal, use Welch's t-test\n",
        "    print(\"Performing Welch's t-test (variances are unequal)\")\n",
        "    t_stat, p_value = stats.ttest_ind(control_group_clicks, test_group_clicks, equal_var=False)\n",
        "else:\n",
        "    # If variances are equal, use regular t-test\n",
        "    print(\"Performing regular t-test (variances are equal)\")\n",
        "    t_stat, p_value = stats.ttest_ind(control_group_clicks, test_group_clicks, equal_var=True)\n",
        "\n",
        "print(\"T-statistic:\", t_stat)\n",
        "print(\"P-value:\", p_value)\n",
        "\n",
        "# Interpretation of results\n",
        "if p_value < 0.05:\n",
        "    print(\"The difference between the two groups is statistically significant.\")\n",
        "else:\n",
        "    print(\"The difference between the two groups is not statistically significant.\")\n",
        "\n",
        "# Print the means for comparison\n",
        "mean_control = np.mean(control_group_clicks)\n",
        "mean_test = np.mean(test_group_clicks)\n",
        "print(f\"Control Group Mean Impressions: {mean_control}\")\n",
        "print(f\"Test Group Mean Impressions: {mean_test}\")"
      ]
    },
    {
      "cell_type": "code",
      "execution_count": 23,
      "metadata": {
        "colab": {
          "base_uri": "https://localhost:8080/"
        },
        "id": "11sg5neC-158",
        "outputId": "734feaff-28ed-46f5-b477-0c68f6e6b2da"
      },
      "outputs": [
        {
          "output_type": "stream",
          "name": "stdout",
          "text": [
            "T-statistic: 5.392566808869295\n",
            "P-value: 1.3332074556983057e-06\n",
            "The difference between the two groups is statistically significant.\n",
            "Control Group Mean Reach: 88844.93103448277\n",
            "Test Group Mean Reach: 53491.566666666666\n"
          ]
        }
      ],
      "source": [
        "from scipy import stats\n",
        "import numpy as np\n",
        "\n",
        "# Split data for the control and test groups\n",
        "control_group_reach = control_group['reach_count']\n",
        "test_group_reach = test_group['reach_count']\n",
        "\n",
        "# Perform t-test assuming normal distribution\n",
        "t_stat, p_value = stats.ttest_ind(control_group_reach, test_group_reach)\n",
        "\n",
        "print(\"T-statistic:\", t_stat)\n",
        "print(\"P-value:\", p_value)\n",
        "\n",
        "# Interpretation of results\n",
        "if p_value < 0.05:\n",
        "    print(\"The difference between the two groups is statistically significant.\")\n",
        "else:\n",
        "    print(\"The difference between the two groups is not statistically significant.\")\n",
        "\n",
        "# Print the means for comparison\n",
        "mean_control = np.mean(control_group_reach)\n",
        "mean_test = np.mean(test_group_reach)\n",
        "print(f\"Control Group Mean Reach: {mean_control}\")\n",
        "print(f\"Test Group Mean Reach: {mean_test}\")"
      ]
    },
    {
      "cell_type": "markdown",
      "metadata": {
        "id": "AccKHaWM-DoV"
      },
      "source": [
        "Both the Control Group and Test Group follow a normal distribution for both Impression Count and Reach Count, as confirmed by the Shapiro-Wilk test. For Impression Count, Levene's test shows that the variances between the two groups are not equal, so Welch's t-test was applied, resulting in a p-value significantly below 0.05. This indicates a statistically significant difference, with the Control Group demonstrating a higher number of impressions than the Test Group. For Reach Count, Levene's test confirms that the variances are equal between groups. The t-test results indicate a statistically significant difference in reach, with the Control Group reaching more users than the Test Group.\n"
      ]
    },
    {
      "cell_type": "markdown",
      "source": [
        "# Bayesian analysis"
      ],
      "metadata": {
        "id": "T5QRnkaAfBzd"
      }
    },
    {
      "cell_type": "code",
      "source": [
        "import numpy as np\n",
        "import pandas as pd\n",
        "import scipy.stats as stats\n",
        "\n",
        "# Prepare control and test group data\n",
        "control_df = control_group\n",
        "test_df = test_group\n",
        "\n",
        "# Calculate click rate for each group\n",
        "control_df['click_rate'] = control_df['click_count'] / control_df['impression_count']\n",
        "test_df['click_rate'] = test_df['click_count'] / test_df['impression_count']\n",
        "\n",
        "# Prior distribution for click rate of control group (Beta(1, 1))\n",
        "alpha_control = 1\n",
        "beta_control = 1\n",
        "\n",
        "# Prior distribution for click rate of test group (Beta(1, 1))\n",
        "alpha_test = 1\n",
        "beta_test = 1\n",
        "\n",
        "# Click counts and impression counts for both groups\n",
        "clicks_control = control_df['click_count'].values\n",
        "impressions_control = control_df['impression_count'].values\n",
        "\n",
        "clicks_test = test_df['click_count'].values\n",
        "impressions_test = test_df['impression_count'].values\n",
        "\n",
        "# Sum up clicks and impressions for posterior distribution calculation\n",
        "total_clicks_control = np.sum(clicks_control)\n",
        "total_impressions_control = np.sum(impressions_control)\n",
        "\n",
        "total_clicks_test = np.sum(clicks_test)\n",
        "total_impressions_test = np.sum(impressions_test)\n",
        "\n",
        "# Calculate posterior distribution: Beta distribution\n",
        "# The parameters of Beta distribution are updated as Beta(1, 1) + Binomial(total clicks, click rate)\n",
        "alpha_post_control = alpha_control + total_clicks_control\n",
        "beta_post_control = beta_control + total_impressions_control - total_clicks_control\n",
        "\n",
        "alpha_post_test = alpha_test + total_clicks_test\n",
        "beta_post_test = beta_test + total_impressions_test - total_clicks_test\n",
        "\n",
        "# Draw samples from the posterior distribution\n",
        "control_samples = np.random.beta(alpha_post_control, beta_post_control, 10000)\n",
        "test_samples = np.random.beta(alpha_post_test, beta_post_test, 10000)\n",
        "\n",
        "# Calculate the difference in click rates between the two groups\n",
        "delta_samples = test_samples - control_samples\n",
        "\n",
        "# Calculate the mean difference and the 95% credibility interval\n",
        "mean_diff = np.mean(delta_samples)\n",
        "cred_interval = np.percentile(delta_samples, [2.5, 97.5])\n",
        "\n",
        "print(f\"Mean difference in click rates: {mean_diff}\")\n",
        "print(f\"95% credibility interval for the difference: {cred_interval}\")\n",
        "\n",
        "# Determine which group has a higher click rate based on the mean difference\n",
        "if mean_diff > 0:\n",
        "    print(\"The Test group has a higher click rate than the Control group.\")\n",
        "else:\n",
        "    print(\"The Control group has a higher click rate than the Test group.\")"
      ],
      "metadata": {
        "colab": {
          "base_uri": "https://localhost:8080/"
        },
        "id": "kMdke8SFq-bC",
        "outputId": "e97b7f60-f2b6-4a69-ac03-61fa4238ac74"
      },
      "execution_count": 24,
      "outputs": [
        {
          "output_type": "stream",
          "name": "stdout",
          "text": [
            "Mean difference in click rates: 0.032316821727123864\n",
            "95% credibility interval for the difference: [0.03189745 0.0327364 ]\n",
            "The Test group has a higher click rate than the Control group.\n"
          ]
        }
      ]
    },
    {
      "cell_type": "markdown",
      "source": [
        "The analysis used Bayesian statistics to compare the click rates of the Control and Test groups. Both groups were assumed to have a uniform prior distribution (Beta(1, 1)) for click rates. After updating the priors with observed data, posterior distributions were derived, and 10,000 samples were drawn from each group's posterior. The mean difference in click rates was calculated, with the Test group showing a higher click rate than the Control group. The 95% credibility interval for the difference did not include zero, confirming a statistically significant result. Therefore, the Test group has a higher click rate than the Control group."
      ],
      "metadata": {
        "id": "lQKxYXhPfeqz"
      }
    }
  ],
  "metadata": {
    "colab": {
      "provenance": []
    },
    "kernelspec": {
      "display_name": "Python 3 (ipykernel)",
      "language": "python",
      "name": "python3"
    },
    "language_info": {
      "codemirror_mode": {
        "name": "ipython",
        "version": 3
      },
      "file_extension": ".py",
      "mimetype": "text/x-python",
      "name": "python",
      "nbconvert_exporter": "python",
      "pygments_lexer": "ipython3",
      "version": "3.10.13"
    }
  },
  "nbformat": 4,
  "nbformat_minor": 0
}